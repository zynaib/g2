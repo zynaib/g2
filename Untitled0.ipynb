{
  "nbformat": 4,
  "nbformat_minor": 0,
  "metadata": {
    "colab": {
      "provenance": [],
      "authorship_tag": "ABX9TyPt1kMxa+T1zmulZ2QFXjzT",
      "include_colab_link": true
    },
    "kernelspec": {
      "name": "python3",
      "display_name": "Python 3"
    },
    "language_info": {
      "name": "python"
    }
  },
  "cells": [
    {
      "cell_type": "markdown",
      "metadata": {
        "id": "view-in-github",
        "colab_type": "text"
      },
      "source": [
        "<a href=\"https://colab.research.google.com/github/zynaib/g2/blob/main/Untitled0.ipynb\" target=\"_parent\"><img src=\"https://colab.research.google.com/assets/colab-badge.svg\" alt=\"Open In Colab\"/></a>"
      ]
    },
    {
      "cell_type": "code",
      "source": [
        "import numpy as np\n",
        "import random\n",
        "\n",
        "ages = [18, 21, 20, 19, 22, 23, 20, 21, 22, 19]\n",
        "\n",
        "manual_mean = sum(ages) / len(ages)\n",
        "numpy_mean = np.mean(ages)\n",
        "\n",
        "print(\"Manual Mean:\", manual_mean)\n",
        "print(\"NumPy Mean:\", numpy_mean)"
      ],
      "metadata": {
        "colab": {
          "base_uri": "https://localhost:8080/"
        },
        "id": "C7v-f5qqpbkH",
        "outputId": "1c1c3e3f-75fe-434f-fdb3-5bc476b8eb93"
      },
      "execution_count": 3,
      "outputs": [
        {
          "output_type": "stream",
          "name": "stdout",
          "text": [
            "Manual Mean: 20.5\n",
            "NumPy Mean: 20.5\n"
          ]
        }
      ]
    },
    {
      "cell_type": "code",
      "source": [
        "import numpy as np\n",
        "import random\n",
        "\n",
        "random_list = [random.randint(10, 50) for _ in range(15)]\n",
        "print(\"Random List:\", random_list)\n",
        "\n",
        "sorted_list = sorted(random_list)\n",
        "n = len(sorted_list)\n",
        "\n",
        "if n % 2 == 1:\n",
        "    manual_median = sorted_list[n // 2]\n",
        "else:\n",
        "    manual_median = (sorted_list[n // 2 - 1] + sorted_list[n // 2]) / 2\n",
        "\n",
        "numpy_median = np.median(random_list)\n",
        "\n",
        "print(\"Manual Median:\", manual_median)\n",
        "print(\"NumPy Median:\", numpy_median)"
      ],
      "metadata": {
        "colab": {
          "base_uri": "https://localhost:8080/"
        },
        "id": "JfaV9DHmo4H1",
        "outputId": "c5d7e46a-8a8e-47c0-b994-5829be4829b3"
      },
      "execution_count": 4,
      "outputs": [
        {
          "output_type": "stream",
          "name": "stdout",
          "text": [
            "Random List: [22, 47, 15, 42, 30, 46, 46, 26, 35, 25, 42, 27, 45, 23, 31]\n",
            "Manual Median: 31\n",
            "NumPy Median: 31.0\n"
          ]
        }
      ]
    },
    {
      "cell_type": "code",
      "source": [
        "import numpy as np\n",
        "import random\n",
        "\n",
        "random_list = [random.randint(10, 50) for _ in range(15)]\n",
        "print(\"Random List:\", random_list)\n",
        "\n",
        "manual_min = min(random_list)\n",
        "manual_max = max(random_list)\n",
        "manual_range = manual_max - manual_min\n",
        "\n",
        "numpy_min = np.min(random_list)\n",
        "numpy_max = np.max(random_list)\n",
        "numpy_range = numpy_max - numpy_min\n",
        "\n",
        "print(\"Manual Min:\", manual_min)\n",
        "print(\"Manual Max:\", manual_max)\n",
        "print(\"Manual Range:\", manual_range)\n",
        "\n",
        "print(\"NumPy Min:\", numpy_min)\n",
        "print(\"NumPy Max:\", numpy_max)\n",
        "print(\"NumPy Range:\", numpy_range)"
      ],
      "metadata": {
        "colab": {
          "base_uri": "https://localhost:8080/"
        },
        "id": "L8QKXWoJs258",
        "outputId": "0088bdc7-eaac-4ce9-cf6f-e3036b763cef"
      },
      "execution_count": 7,
      "outputs": [
        {
          "output_type": "stream",
          "name": "stdout",
          "text": [
            "Random List: [22, 40, 45, 41, 20, 14, 12, 32, 40, 15, 41, 18, 24, 30, 42]\n",
            "Manual Min: 12\n",
            "Manual Max: 45\n",
            "Manual Range: 33\n",
            "NumPy Min: 12\n",
            "NumPy Max: 45\n",
            "NumPy Range: 33\n"
          ]
        }
      ]
    },
    {
      "cell_type": "code",
      "source": [
        "import numpy as np\n",
        "\n",
        "data = [5, 7, 3, 7, 9, 10, 15, 7]\n",
        "n = len(data)\n",
        "mean_data = sum(data) / n\n",
        "\n",
        "variance_manual = sum((x - mean_data) ** 2 for x in data) / n\n",
        "\n",
        "\n",
        "std_dev_manual = variance_manual ** 0.5\n",
        "\n",
        "variance_numpy = np.var(data)\n",
        "std_dev_numpy = np.std(data)\n",
        "\n",
        "print(\"Manual Variance:\", variance_manual)\n",
        "print(\"NumPy Variance:\", variance_numpy)\n",
        "\n",
        "print(\"Manual Std Dev:\", std_dev_manual)\n",
        "print(\"NumPy Std Dev:\", std_dev_numpy)"
      ],
      "metadata": {
        "colab": {
          "base_uri": "https://localhost:8080/"
        },
        "id": "fDmPVzPBs9fD",
        "outputId": "833269cc-b6a8-4f25-eaa6-b191a4bce419"
      },
      "execution_count": 6,
      "outputs": [
        {
          "output_type": "stream",
          "name": "stdout",
          "text": [
            "Manual Variance: 11.359375\n",
            "NumPy Variance: 11.359375\n",
            "Manual Std Dev: 3.370367190678191\n",
            "NumPy Std Dev: 3.370367190678191\n"
          ]
        }
      ]
    },
    {
      "cell_type": "code",
      "source": [
        "import numpy as np\n",
        "\n",
        "data = [5, 7, 3, 7, 9, 10, 15, 7]\n",
        "\n",
        "\n",
        "Q1 = np.percentile(data, 25)\n",
        "Q2 = np.percentile(data, 50)\n",
        "Q3 = np.percentile(data, 75)\n",
        "\n",
        "IQR = Q3 - Q1\n",
        "\n",
        "print(\"25th Percentile (Q1):\", Q1)\n",
        "print(\"50th Percentile (Q2):\", Q2)\n",
        "print(\"75th Percentile (Q3):\", Q3)\n",
        "print(\"Interquartile Range (IQR):\", IQR)"
      ],
      "metadata": {
        "colab": {
          "base_uri": "https://localhost:8080/"
        },
        "id": "w0-fY7D3tIbI",
        "outputId": "f1be3207-58d0-4b02-b8d2-39c4eb7d0a4d"
      },
      "execution_count": 5,
      "outputs": [
        {
          "output_type": "stream",
          "name": "stdout",
          "text": [
            "25th Percentile (Q1): 6.5\n",
            "50th Percentile (Q2): 7.0\n",
            "75th Percentile (Q3): 9.25\n",
            "Interquartile Range (IQR): 2.75\n"
          ]
        }
      ]
    },
    {
      "cell_type": "code",
      "source": [
        "import numpy as np\n",
        "data = [10, 12, 23, 23, 16, 23, 21, 16]\n",
        "\n",
        "def z_score_normalization(lst):\n",
        "    mean_val = sum(lst) / len(lst)\n",
        "    std_val = (sum((x - mean_val) ** 2 for x in lst) / len(lst)) ** 0.5\n",
        "    z_scores = [(x - mean_val) / std_val for x in lst]\n",
        "    return z_scores\n",
        "\n",
        "manual_z = z_score_normalization(data)\n",
        "numpy_z = (np.array(data) - np.mean(data)) / np.std(data)\n",
        "\n",
        "print(\"Manual Z-Scores:\", manual_z)\n",
        "print(\"NumPy Z-Scores:\", numpy_z)"
      ],
      "metadata": {
        "colab": {
          "base_uri": "https://localhost:8080/"
        },
        "id": "J5cZaM6suXKr",
        "outputId": "6ed46d5d-eb61-4764-9ab7-ca4cd5ba59d5"
      },
      "execution_count": 8,
      "outputs": [
        {
          "output_type": "stream",
          "name": "stdout",
          "text": [
            "Manual Z-Scores: [-1.6329931618554523, -1.2247448713915892, 1.0206207261596576, 1.0206207261596576, -0.4082482904638631, 1.0206207261596576, 0.6123724356957946, -0.4082482904638631]\n",
            "NumPy Z-Scores: [-1.63299316 -1.22474487  1.02062073  1.02062073 -0.40824829  1.02062073\n",
            "  0.61237244 -0.40824829]\n"
          ]
        }
      ]
    },
    {
      "cell_type": "code",
      "source": [
        "import numpy as np\n",
        "import random\n",
        "\n",
        "\n",
        "data = [random.randint(1, 100) for _ in range(20)]\n",
        "print(\"Data:\", data)\n",
        "\n",
        "window_size = 3\n",
        "moving_avg_manual = [\n",
        "    sum(data[i:i+window_size]) / window_size\n",
        "    for i in range(len(data) - window_size + 1)\n",
        "]\n",
        "\n",
        "\n",
        "moving_avg_numpy = np.convolve(data, np.ones(window_size) / window_size, mode='valid')\n",
        "\n",
        "print(\"Manual Moving Average:\", moving_avg_manual)\n",
        "print(\"NumPy Moving Average:\", moving_avg_numpy)\n"
      ],
      "metadata": {
        "colab": {
          "base_uri": "https://localhost:8080/"
        },
        "id": "hcYgRpycuaHC",
        "outputId": "0d10d84a-69e9-4d2a-9664-bddc61fc7061"
      },
      "execution_count": 9,
      "outputs": [
        {
          "output_type": "stream",
          "name": "stdout",
          "text": [
            "Data: [81, 67, 2, 27, 88, 6, 8, 96, 14, 76, 37, 7, 47, 21, 23, 10, 68, 12, 66, 93]\n",
            "Manual Moving Average: [50.0, 32.0, 39.0, 40.333333333333336, 34.0, 36.666666666666664, 39.333333333333336, 62.0, 42.333333333333336, 40.0, 30.333333333333332, 25.0, 30.333333333333332, 18.0, 33.666666666666664, 30.0, 48.666666666666664, 57.0]\n",
            "NumPy Moving Average: [50.         32.         39.         40.33333333 34.         36.66666667\n",
            " 39.33333333 62.         42.33333333 40.         30.33333333 25.\n",
            " 30.33333333 18.         33.66666667 30.         48.66666667 57.        ]\n"
          ]
        }
      ]
    },
    {
      "cell_type": "code",
      "source": [
        "import numpy as np\n",
        "\n",
        "\n",
        "data = list(range(1, 26)) + [300, 400]\n",
        "print(\"Data:\", data)\n",
        "\n",
        "Q1 = np.percentile(data, 25)\n",
        "Q3 = np.percentile(data, 75)\n",
        "IQR = Q3 - Q1\n",
        "\n",
        "\n",
        "lower_bound = Q1 - 1.5 * IQR\n",
        "upper_bound = Q3 + 1.5 * IQR\n",
        "\n",
        "outliers = [x for x in data if x < lower_bound or x > upper_bound]\n",
        "\n",
        "print(\"Q1:\", Q1)\n",
        "print(\"Q3:\", Q3)\n",
        "print(\"IQR:\", IQR)\n",
        "print(\"Lower Bound:\", lower_bound)\n",
        "print(\"Upper Bound:\", upper_bound)\n",
        "print(\"Outliers:\", outliers)"
      ],
      "metadata": {
        "colab": {
          "base_uri": "https://localhost:8080/"
        },
        "id": "crDT94biuhXm",
        "outputId": "2ccb93e7-415e-4acf-c18d-a0495dd2b6a0"
      },
      "execution_count": 10,
      "outputs": [
        {
          "output_type": "stream",
          "name": "stdout",
          "text": [
            "Data: [1, 2, 3, 4, 5, 6, 7, 8, 9, 10, 11, 12, 13, 14, 15, 16, 17, 18, 19, 20, 21, 22, 23, 24, 25, 300, 400]\n",
            "Q1: 7.5\n",
            "Q3: 20.5\n",
            "IQR: 13.0\n",
            "Lower Bound: -12.0\n",
            "Upper Bound: 40.0\n",
            "Outliers: [300, 400]\n"
          ]
        }
      ]
    }
  ]
}