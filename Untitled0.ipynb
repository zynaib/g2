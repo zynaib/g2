{
  "nbformat": 4,
  "nbformat_minor": 0,
  "metadata": {
    "colab": {
      "provenance": [],
      "authorship_tag": "ABX9TyOFXWSz4d3ceAd7HP6o8WCI",
      "include_colab_link": true
    },
    "kernelspec": {
      "name": "python3",
      "display_name": "Python 3"
    },
    "language_info": {
      "name": "python"
    }
  },
  "cells": [
    {
      "cell_type": "markdown",
      "metadata": {
        "id": "view-in-github",
        "colab_type": "text"
      },
      "source": [
        "<a href=\"https://colab.research.google.com/github/zynaib/g2/blob/main/Untitled0.ipynb\" target=\"_parent\"><img src=\"https://colab.research.google.com/assets/colab-badge.svg\" alt=\"Open In Colab\"/></a>"
      ]
    },
    {
      "cell_type": "code",
      "source": [
        "num1, num2, num3 = 3, 4, 5\n",
        "# a) Addition\n",
        "result_a = num1 + num2\n",
        "print(\"a) num1 + num2 =\", result_a)\n",
        "num1, num2, num3 = 3, 4, 5\n",
        "\n",
        "# b) Subtraction\n",
        "result_b = num3 - num1\n",
        "print(\"b) num3 - num1 =\", result_b)\n",
        "\n",
        "# c) Multiplication and Addition\n",
        "result_c = num1 * num2 + num3\n",
        "print(\"c) num1 * num2 + num3 =\", result_c)\n",
        "\n",
        "# d) Parentheses Grouping\n",
        "result_d = num1 * (num2 + num3)\n",
        "print(\"d) num1 * (num2 + num3) =\", result_d)\n",
        "\n",
        "# e) Division\n",
        "result_e = num3 / num1\n",
        "print(\"e) num3 / num1 =\", result_e)\n",
        "\n",
        "# f) Floor Division\n",
        "result_f = num3 // num1\n",
        "print(\"f) num3 // num1 =\", result_f)\n",
        "\n",
        "# g) Modulus\n",
        "result_g = num3 % num1\n",
        "print(\"g) num3 % num1 =\", result_g)"
      ],
      "metadata": {
        "colab": {
          "base_uri": "https://localhost:8080/"
        },
        "id": "mSj3HawxnaRw",
        "outputId": "d0b030ea-d665-4e07-888b-b11e09b1188f"
      },
      "execution_count": 3,
      "outputs": [
        {
          "output_type": "stream",
          "name": "stdout",
          "text": [
            "c) num1 * num2 + num3 = 17\n",
            "d) num1 * (num2 + num3) = 27\n",
            "e) num3 / num1 = 1.6666666666666667\n",
            "f) num3 // num1 = 1\n",
            "g) num3 % num1 = 2\n"
          ]
        }
      ]
    },
    {
      "cell_type": "code",
      "source": [
        "\n",
        "x, y, z, g = 1, 2, 3, 4\n",
        "\n",
        "result_a = x + y * z * g\n",
        "print(\"a) x + y * z * g =\", result_a)\n",
        "\n",
        "result_b = y ** z\n",
        "print(\"b) y ** z =\", result_b)"
      ],
      "metadata": {
        "colab": {
          "base_uri": "https://localhost:8080/"
        },
        "id": "C7v-f5qqpbkH",
        "outputId": "8743e9c3-1a0c-406b-998e-d03b498c4440"
      },
      "execution_count": 5,
      "outputs": [
        {
          "output_type": "stream",
          "name": "stdout",
          "text": [
            "a) x + y * z * g = 25\n",
            "b) y ** z = 8\n"
          ]
        }
      ]
    },
    {
      "cell_type": "code",
      "source": [
        "\n",
        "str_a = \"Python\"\n",
        "str_b = \"is a\"\n",
        "str_c = \"times fun language\"\n",
        "num = 1000\n",
        "\n",
        "str_ab = str_a + \" \" + str_b + \" \" + str(num) + \" \" + str_c\n",
        "print(\"a) Concatenated string:\", str_ab)\n",
        "\n",
        "str_a10 = str_a * 10\n",
        "print(\"b) str_a repeated 10 times:\", str_a10)"
      ],
      "metadata": {
        "colab": {
          "base_uri": "https://localhost:8080/"
        },
        "id": "JfaV9DHmo4H1",
        "outputId": "5756e530-f77f-468e-d238-605c172e6758"
      },
      "execution_count": 4,
      "outputs": [
        {
          "output_type": "stream",
          "name": "stdout",
          "text": [
            "a) Concatenated string: Python is a 1000 times fun language\n",
            "b) str_a repeated 10 times: PythonPythonPythonPythonPythonPythonPythonPythonPythonPython\n"
          ]
        }
      ]
    },
    {
      "cell_type": "code",
      "source": [
        "num = int(input(\"Enter a number: \"))\n",
        "\n",
        "if num % 2 == 0:\n",
        "    print(\"Even\")\n",
        "else:\n",
        "    print(\"Odd\")"
      ],
      "metadata": {
        "colab": {
          "base_uri": "https://localhost:8080/"
        },
        "id": "L8QKXWoJs258",
        "outputId": "0330903a-6b13-4592-a3b8-fa5167ffbb3b"
      },
      "execution_count": 7,
      "outputs": [
        {
          "output_type": "stream",
          "name": "stdout",
          "text": [
            "Enter a number: 7\n",
            "Odd\n"
          ]
        }
      ]
    },
    {
      "cell_type": "code",
      "source": [
        "score = float(input(\"Enter the student's score (0-100): \"))\n",
        "\n",
        "if score >= 50:\n",
        "    print(\"Pass\")\n",
        "else:\n",
        "    print(\"Fail\")"
      ],
      "metadata": {
        "colab": {
          "base_uri": "https://localhost:8080/"
        },
        "id": "fDmPVzPBs9fD",
        "outputId": "4c30b1b9-6989-4de7-bb0f-5330316ac4f4"
      },
      "execution_count": 8,
      "outputs": [
        {
          "output_type": "stream",
          "name": "stdout",
          "text": [
            "Enter the student's score (0-100): 60\n",
            "Pass\n"
          ]
        }
      ]
    },
    {
      "cell_type": "code",
      "source": [
        "a = float(input(\"Enter first number: \"))\n",
        "b = float(input(\"Enter second number: \"))\n",
        "c = float(input(\"Enter third number: \"))\n",
        "\n",
        "largest = max(a, b, c)\n",
        "print(\"The largest number is:\", largest)"
      ],
      "metadata": {
        "colab": {
          "base_uri": "https://localhost:8080/"
        },
        "id": "w0-fY7D3tIbI",
        "outputId": "ea097d73-193a-48d7-97a2-1635cfa4a1e0"
      },
      "execution_count": 10,
      "outputs": [
        {
          "output_type": "stream",
          "name": "stdout",
          "text": [
            "Enter first number: 5\n",
            "Enter second number: 7\n",
            "Enter third number: 8\n",
            "The largest number is: 8.0\n"
          ]
        }
      ]
    },
    {
      "cell_type": "code",
      "source": [
        "for i in range(1, 11):\n",
        "    print(i)"
      ],
      "metadata": {
        "colab": {
          "base_uri": "https://localhost:8080/"
        },
        "id": "J5cZaM6suXKr",
        "outputId": "dd57a43b-3d18-401b-db02-60eaf655e56b"
      },
      "execution_count": 11,
      "outputs": [
        {
          "output_type": "stream",
          "name": "stdout",
          "text": [
            "1\n",
            "2\n",
            "3\n",
            "4\n",
            "5\n",
            "6\n",
            "7\n",
            "8\n",
            "9\n",
            "10\n"
          ]
        }
      ]
    },
    {
      "cell_type": "code",
      "source": [
        "score = float(input(\"Enter score: \"))\n",
        "\n",
        "if 90 <= score <= 100:\n",
        "    print(\"Grade: A\")\n",
        "elif 80 <= score < 90:\n",
        "    print(\"Grade: B\")\n",
        "elif 70 <= score < 80:\n",
        "    print(\"Grade: C\")\n",
        "elif 60 <= score < 70:\n",
        "    print(\"Grade: D\")\n",
        "elif 0 <= score < 60:\n",
        "    print(\"Grade: F\")\n",
        "else:\n",
        "    print(\"Invalid score\")"
      ],
      "metadata": {
        "colab": {
          "base_uri": "https://localhost:8080/"
        },
        "id": "hcYgRpycuaHC",
        "outputId": "b050b2b2-f423-4d6b-b3a4-c14d5a37b95e"
      },
      "execution_count": 12,
      "outputs": [
        {
          "output_type": "stream",
          "name": "stdout",
          "text": [
            "Enter score: 80\n",
            "Grade: B\n"
          ]
        }
      ]
    },
    {
      "cell_type": "code",
      "source": [
        "num = int(input(\"Enter a number: \"))\n",
        "\n",
        "for i in range(1, 11):\n",
        "    print(f\"{num} x {i} = {num * i}\")"
      ],
      "metadata": {
        "colab": {
          "base_uri": "https://localhost:8080/"
        },
        "id": "crDT94biuhXm",
        "outputId": "e580876f-b816-4734-c119-790520fabefe"
      },
      "execution_count": 13,
      "outputs": [
        {
          "output_type": "stream",
          "name": "stdout",
          "text": [
            "Enter a number: 4\n",
            "4 x 1 = 4\n",
            "4 x 2 = 8\n",
            "4 x 3 = 12\n",
            "4 x 4 = 16\n",
            "4 x 5 = 20\n",
            "4 x 6 = 24\n",
            "4 x 7 = 28\n",
            "4 x 8 = 32\n",
            "4 x 9 = 36\n",
            "4 x 10 = 40\n"
          ]
        }
      ]
    },
    {
      "cell_type": "code",
      "source": [
        "total = 0\n",
        "for i in range(1, 51):\n",
        "    if i % 2 == 0:\n",
        "        total += i\n",
        "\n",
        "print(\"Sum of even numbers between 1 and 50 is:\", total)"
      ],
      "metadata": {
        "colab": {
          "base_uri": "https://localhost:8080/"
        },
        "id": "a1yDkzWoux9S",
        "outputId": "e0b2563f-3de0-44ff-ca88-8e5fd0295531"
      },
      "execution_count": 14,
      "outputs": [
        {
          "output_type": "stream",
          "name": "stdout",
          "text": [
            "Sum of even numbers between 1 and 50 is: 650\n"
          ]
        }
      ]
    },
    {
      "cell_type": "code",
      "source": [
        "num = int(input(\"Enter a number: \"))\n",
        "\n",
        "factorial = 1\n",
        "i = 1\n",
        "while i <= num:\n",
        "    factorial *= i\n",
        "    i += 1\n",
        "\n",
        "print(f\"Factorial of {num} is:\", factorial)"
      ],
      "metadata": {
        "colab": {
          "base_uri": "https://localhost:8080/"
        },
        "id": "H7Lh9zvAvWId",
        "outputId": "bdd83cd4-3b60-4820-a120-b642ab3c7bc2"
      },
      "execution_count": 15,
      "outputs": [
        {
          "output_type": "stream",
          "name": "stdout",
          "text": [
            "Enter a number: 5\n",
            "Factorial of 5 is: 120\n"
          ]
        }
      ]
    }
  ]
}