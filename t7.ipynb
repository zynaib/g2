{
  "nbformat": 4,
  "nbformat_minor": 0,
  "metadata": {
    "colab": {
      "provenance": [],
      "include_colab_link": true
    },
    "kernelspec": {
      "name": "python3",
      "display_name": "Python 3"
    },
    "language_info": {
      "name": "python"
    }
  },
  "cells": [
    {
      "cell_type": "markdown",
      "metadata": {
        "id": "view-in-github",
        "colab_type": "text"
      },
      "source": [
        "<a href=\"https://colab.research.google.com/github/zynaib/g2/blob/main/t7.ipynb\" target=\"_parent\"><img src=\"https://colab.research.google.com/assets/colab-badge.svg\" alt=\"Open In Colab\"/></a>"
      ]
    },
    {
      "cell_type": "markdown",
      "source": [
        "Add Hello World from Taher\n",
        "\n"
      ],
      "metadata": {
        "id": "2Z7Aq-irFOtj"
      }
    },
    {
      "cell_type": "code",
      "execution_count": null,
      "metadata": {
        "colab": {
          "base_uri": "https://localhost:8080/"
        },
        "id": "CbJfJu9CChGg",
        "outputId": "70650a47-6fa8-4073-93c6-718ca0a456f2"
      },
      "outputs": [
        {
          "output_type": "stream",
          "name": "stdout",
          "text": [
            "Hello World from Taher A Alalfy\n"
          ]
        }
      ],
      "source": [
        "print(\"Hello World from Taher A Alalfy\")\n"
      ]
    },
    {
      "cell_type": "code",
      "source": [
        "#Ahmed Mohamed Saadawi\n",
        "print('hello world from {Ahmed Mohammedsadiwu}')"
      ],
      "metadata": {
        "id": "ZDdCDNs0Ml58"
      },
      "execution_count": null,
      "outputs": []
    },
    {
      "cell_type": "code",
      "source": [
        "print(\"Hello World From Zeinab Gomaa Mohamed\")"
      ],
      "metadata": {
        "id": "sMk20PGjZVp0",
        "outputId": "c89e382f-8c6f-4d69-e27a-13ca38853cfb",
        "colab": {
          "base_uri": "https://localhost:8080/"
        }
      },
      "execution_count": null,
      "outputs": [
        {
          "output_type": "stream",
          "name": "stdout",
          "text": [
            "Hello World From Zeinab Gomaa Mohamed\n"
          ]
        }
      ]
    }
  ]
}